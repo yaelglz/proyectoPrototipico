{
 "cells": [
  {
   "cell_type": "code",
   "id": "initial_id",
   "metadata": {
    "collapsed": true,
    "ExecuteTime": {
     "end_time": "2024-10-09T01:07:29.805053Z",
     "start_time": "2024-10-09T01:07:01.739886Z"
    }
   },
   "source": [
    "import pandas as pd\n",
    "\n",
    "# Inicializar el balance\n",
    "balance_actual = 0\n",
    "\n",
    "# Crear una lista para almacenar las transacciones\n",
    "transacciones = []\n",
    "\n",
    "def mostrar_dataframe(transacciones):\n",
    "    df = pd.DataFrame(transacciones)\n",
    "    print(\"\\nDataFrame actual:\")\n",
    "    print(df)\n",
    "\n",
    "def agregar_transaccion(fecha, descripcion, categoria, ingreso, gasto):\n",
    "    global balance_actual\n",
    "    \n",
    "    if categoria.lower() == \"ingreso\":\n",
    "        balance_actual += ingreso\n",
    "    elif categoria.lower() == \"gasto\":\n",
    "        balance_actual -= gasto\n",
    "\n",
    "    # Agregar la nueva transacción a la lista\n",
    "    transaccion = {\n",
    "        'Fecha': fecha,\n",
    "        'Descripción': descripcion,\n",
    "        'Categoría': categoria.capitalize(),\n",
    "        'Ingreso': ingreso,\n",
    "        'Gasto': gasto,\n",
    "        'Balance': balance_actual\n",
    "    }\n",
    "    \n",
    "    transacciones.append(transaccion)\n",
    "\n",
    "# Solicitar los datos de la transacción inicial\n",
    "print(\"Introduce los datos de la transacción inicial:\")\n",
    "fecha = input(\"Fecha de la transacción (YYYY-MM-DD): \")\n",
    "descripcion = input(\"Descripción de la transacción: \")\n",
    "categoria = input(\"Categoría (Ingreso/Gasto): \")\n",
    "\n",
    "if categoria.lower() == \"ingreso\":\n",
    "    ingreso = float(input(\"Cantidad del ingreso: \"))\n",
    "    gasto = 0\n",
    "elif categoria.lower() == \"gasto\":\n",
    "    ingreso = 0\n",
    "    gasto = float(input(\"Cantidad del gasto: \"))\n",
    "else:\n",
    "    print(\"Categoría no válida. El programa se cerrará.\")\n",
    "    exit()\n",
    "\n",
    "# Agregar la transacción inicial\n",
    "agregar_transaccion(fecha, descripcion, categoria, ingreso, gasto)\n",
    "\n",
    "# Mostrar el DataFrame con la transacción inicial\n",
    "mostrar_dataframe(transacciones)\n",
    "\n",
    "# Permitir agregar más transacciones sin hacer preguntas repetitivas\n",
    "while True:\n",
    "    agregar_otra = input(\"\\n¿Deseas agregar otra transacción? (sí/no): \")\n",
    "    \n",
    "    if agregar_otra.lower() == 'sí':\n",
    "        fecha = input(\"Fecha de la transacción (YYYY-MM-DD): \")\n",
    "        descripcion = input(\"Descripción de la transacción: \")\n",
    "        categoria = input(\"Categoría (Ingreso/Gasto): \")\n",
    "\n",
    "        if categoria.lower() == \"ingreso\":\n",
    "            ingreso = float(input(\"Cantidad del ingreso: \"))\n",
    "            gasto = 0\n",
    "        elif categoria.lower() == \"gasto\":\n",
    "            ingreso = 0\n",
    "            gasto = float(input(\"Cantidad del gasto: \"))\n",
    "        else:\n",
    "            print(\"Categoría no válida. Intenta de nuevo.\")\n",
    "            continue\n",
    "\n",
    "        # Agregar la nueva transacción\n",
    "        agregar_transaccion(fecha, descripcion, categoria, ingreso, gasto)\n",
    "        mostrar_dataframe(transacciones)  # Mostrar el DataFrame actualizado\n",
    "    elif agregar_otra.lower() == 'no':\n",
    "        print(\"Gracias por usar el programa.\")\n",
    "        break\n",
    "    else:\n",
    "        print(\"Opción no válida, intenta de nuevo.\")\n"
   ],
   "outputs": [
    {
     "name": "stdout",
     "output_type": "stream",
     "text": [
      "Introduce los datos de la transacción inicial:\n",
      "\n",
      "DataFrame actual:\n",
      "        Fecha Descripción Categoría  Ingreso  Gasto  Balance\n",
      "0  2024-10-05        Ropa     Gasto        0  500.0   -500.0\n",
      "Gracias por usar el programa.\n"
     ]
    }
   ],
   "execution_count": 9
  },
  {
   "metadata": {},
   "cell_type": "code",
   "source": "",
   "id": "9fd570684197ab06",
   "outputs": [],
   "execution_count": null
  }
 ],
 "metadata": {
  "kernelspec": {
   "display_name": "Python 3",
   "language": "python",
   "name": "python3"
  },
  "language_info": {
   "codemirror_mode": {
    "name": "ipython",
    "version": 2
   },
   "file_extension": ".py",
   "mimetype": "text/x-python",
   "name": "python",
   "nbconvert_exporter": "python",
   "pygments_lexer": "ipython2",
   "version": "2.7.6"
  }
 },
 "nbformat": 4,
 "nbformat_minor": 5
}
