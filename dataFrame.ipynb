{
 "cells": [
  {
   "cell_type": "code",
   "execution_count": 2,
   "id": "a0388e4b",
   "metadata": {},
   "outputs": [],
   "source": [
    "import pandas as pd"
   ]
  },
  {
   "cell_type": "code",
   "execution_count": null,
   "id": "initial_id",
   "metadata": {
    "ExecuteTime": {
     "end_time": "2024-10-09T01:12:42.971217Z",
     "start_time": "2024-10-09T01:12:13.184942Z"
    },
    "collapsed": true
   },
   "outputs": [],
   "source": [
    "# Solicitar el balance inicial\n",
    "balance_actual = float(input('Introduce tu balance inicial: '))  # Pedir el balance inicial\n",
    "transacciones = []\n",
    "print(f'Tu balance inicial es de {balance_actual}')\n"
   ]
  },
  {
   "cell_type": "code",
   "execution_count": null,
   "id": "0b2bc570",
   "metadata": {},
   "outputs": [],
   "source": [
    "# Solicitar los datos de la transacción inicial\n",
    "print('Introduce los datos de la transacción inicial:')\n",
    "categoria = input('Categoría (Ingreso/Gasto): ')\n",
    "\n",
    "\n",
    "if categoria.lower() == 'ingreso':\n",
    "    ingreso = float(input('Cantidad del ingreso: '))\n",
    "    gasto = 0\n",
    "elif categoria.lower() == 'gasto':\n",
    "    ingreso = 0\n",
    "    gasto = float(input('Cantidad del gasto: '))\n",
    "else:\n",
    "    print('Categoría no válida. El programa se cerrará.')\n",
    "    exit()\n",
    "\n",
    "descripcion = input('Descripción de la transacción: ')\n",
    "fecha = input('Fecha de la transacción (YYYY-MM-DD): ')\n",
    "\n",
    "# Agregar la transacción inicial a la lista\n",
    "transaccion = {\n",
    "    'Fecha': fecha,\n",
    "    'Descripción': descripcion,\n",
    "    'Categoría': categoria.capitalize(),\n",
    "    'Ingreso': ingreso,\n",
    "    'Gasto': gasto,\n",
    "    'Balance': balance_actual + (ingreso - gasto)\n",
    "}\n",
    "\n",
    "transacciones.append(transaccion)\n",
    "balance_actual = balance_actual + (ingreso - gasto)\n",
    "\n",
    "# Mostrar el DataFrame con la transacción inicial\n",
    "df = pd.DataFrame(transacciones)\n",
    "print('\\nDataFrame actual:')\n",
    "print(df)\n",
    "\n",
    "# Bucle para agregar más transacciones\n",
    "while True:\n",
    "    agregar_otra = input('¿Deseas agregar otra transacción? (si/no): ')\n",
    "    \n",
    "    if agregar_otra.lower() == 'si':\n",
    "        categoria = input('Categoría (Ingreso/Gasto): ')\n",
    "        \n",
    "        if categoria.lower() == 'ingreso':\n",
    "            ingreso = float(input('Cantidad del ingreso: '))\n",
    "            gasto = 0\n",
    "        elif categoria.lower() == 'gasto':\n",
    "            ingreso = 0\n",
    "            gasto = float(input('Cantidad del gasto: '))\n",
    "        else:\n",
    "            print('Categoría no válida. Intenta de nuevo.')\n",
    "            continue\n",
    "\n",
    "        descripcion = input('Descripción de la transacción: ')\n",
    "        fecha = input('Fecha de la transacción (YYYY-MM-DD): ')\n",
    "\n",
    "        # Agregar la nueva transacción\n",
    "        transaccion = {\n",
    "            'Fecha': fecha,\n",
    "            'Descripción': descripcion,\n",
    "            'Categoría': categoria.capitalize(),\n",
    "            'Ingreso': ingreso,\n",
    "            'Gasto': gasto,\n",
    "            'Balance': balance_actual + (ingreso - gasto)\n",
    "        }\n",
    "        \n",
    "        transacciones.append(transaccion)\n",
    "        balance_actual = balance_actual + (ingreso - gasto)\n",
    "        \n",
    "        # Mostrar el DataFrame actualizado\n",
    "        df = pd.DataFrame(transacciones)\n",
    "        print('\\nDataFrame actual:')\n",
    "        print(df)\n",
    "        \n",
    "    elif agregar_otra.lower() == 'no':\n",
    "        print('Gracias por usar el programa.')\n",
    "        break\n",
    "    else:\n",
    "        print('Opción no válida, intenta de nuevo.')"
   ]
  },
  {
   "cell_type": "code",
   "execution_count": null,
   "id": "02030f7f",
   "metadata": {},
   "outputs": [],
   "source": [
    "df.describe()"
   ]
  },
  {
   "cell_type": "code",
   "execution_count": null,
   "id": "14a69d8f",
   "metadata": {},
   "outputs": [],
   "source": [
    "#identificar el gasto mayor de mi dataframe\n",
    "\n",
    "gasto_mayor = df['Gasto'].max()\n",
    "print(f'El gasto mayor fue de {gasto_mayor}')"
   ]
  }
 ],
 "metadata": {
  "kernelspec": {
   "display_name": "base",
   "language": "python",
   "name": "python3"
  },
  "language_info": {
   "codemirror_mode": {
    "name": "ipython",
    "version": 3
   },
   "file_extension": ".py",
   "mimetype": "text/x-python",
   "name": "python",
   "nbconvert_exporter": "python",
   "pygments_lexer": "ipython3",
   "version": "3.12.4"
  }
 },
 "nbformat": 4,
 "nbformat_minor": 5
}
