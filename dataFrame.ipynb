{
 "cells": [
  {
   "cell_type": "code",
   "execution_count": 2,
   "id": "a0388e4b",
   "metadata": {},
   "outputs": [],
   "source": [
    "import pandas as pd"
   ]
  },
  {
   "cell_type": "code",
   "execution_count": 3,
   "id": "initial_id",
   "metadata": {
    "ExecuteTime": {
     "end_time": "2024-10-09T01:12:42.971217Z",
     "start_time": "2024-10-09T01:12:13.184942Z"
    },
    "collapsed": true
   },
   "outputs": [
    {
     "name": "stdout",
     "output_type": "stream",
     "text": [
      "Tu balance inicial es de 9000.0\n"
     ]
    }
   ],
   "source": [
    "# Solicitar el balance inicial\n",
    "balance_actual = float(input(\"Introduce tu balance inicial: \"))  # Pedir el balance inicial\n",
    "transacciones = []\n",
    "print(f'Tu balance inicial es de {balance_actual}')\n"
   ]
  },
  {
   "cell_type": "code",
   "execution_count": 7,
   "id": "0b2bc570",
   "metadata": {},
   "outputs": [
    {
     "name": "stdout",
     "output_type": "stream",
     "text": [
      "Introduce los datos de la transacción inicial:\n",
      "\n",
      "DataFrame actual:\n",
      "        Fecha Descripción Categoría  Ingreso  Gasto  Balance\n",
      "0  2024-10-08        Pago   Ingreso    900.0    0.0   9900.0\n",
      "1  2024-10-09     Pasajes     Gasto      0.0  100.0   9800.0\n",
      "2  2024-10-06        Pago   Ingreso    500.0    0.0  10300.0\n",
      "Categoría no válida. Intenta de nuevo.\n",
      "Gracias por usar el programa.\n"
     ]
    }
   ],
   "source": [
    "# Solicitar los datos de la transacción inicial\n",
    "print(\"Introduce los datos de la transacción inicial:\")\n",
    "categoria = input(\"Categoría (Ingreso/Gasto): \")\n",
    "\n",
    "\n",
    "if categoria.lower() == \"ingreso\":\n",
    "    ingreso = float(input(\"Cantidad del ingreso: \"))\n",
    "    gasto = 0\n",
    "elif categoria.lower() == \"gasto\":\n",
    "    ingreso = 0\n",
    "    gasto = float(input(\"Cantidad del gasto: \"))\n",
    "else:\n",
    "    print(\"Categoría no válida. El programa se cerrará.\")\n",
    "    exit()\n",
    "\n",
    "descripcion = input(\"Descripción de la transacción: \")\n",
    "fecha = input(\"Fecha de la transacción (YYYY-MM-DD): \")\n",
    "\n",
    "# Agregar la transacción inicial a la lista\n",
    "transaccion = {\n",
    "    'Fecha': fecha,\n",
    "    'Descripción': descripcion,\n",
    "    'Categoría': categoria.capitalize(),\n",
    "    'Ingreso': ingreso,\n",
    "    'Gasto': gasto,\n",
    "    'Balance': balance_actual + (ingreso - gasto)\n",
    "}\n",
    "\n",
    "transacciones.append(transaccion)\n",
    "balance_actual = balance_actual + (ingreso - gasto)\n",
    "\n",
    "# Mostrar el DataFrame con la transacción inicial\n",
    "df = pd.DataFrame(transacciones)\n",
    "print(\"\\nDataFrame actual:\")\n",
    "print(df)\n",
    "\n",
    "# Bucle para agregar más transacciones\n",
    "while True:\n",
    "    agregar_otra = input(\"\\n¿Deseas agregar otra transacción? (sí/no): \")\n",
    "    \n",
    "    if agregar_otra.lower() == 'si':\n",
    "        categoria = input(\"Categoría (Ingreso/Gasto): \")\n",
    "        \n",
    "        if categoria.lower() == \"ingreso\":\n",
    "            ingreso = float(input(\"Cantidad del ingreso: \"))\n",
    "            gasto = 0\n",
    "        elif categoria.lower() == \"gasto\":\n",
    "            ingreso = 0\n",
    "            gasto = float(input(\"Cantidad del gasto: \"))\n",
    "        else:\n",
    "            print(\"Categoría no válida. Intenta de nuevo.\")\n",
    "            continue\n",
    "\n",
    "        descripcion = input(\"Descripción de la transacción: \")\n",
    "        fecha = input(\"Fecha de la transacción (YYYY-MM-DD): \")\n",
    "\n",
    "        # Agregar la nueva transacción\n",
    "        transaccion = {\n",
    "            'Fecha': fecha,\n",
    "            'Descripción': descripcion,\n",
    "            'Categoría': categoria.capitalize(),\n",
    "            'Ingreso': ingreso,\n",
    "            'Gasto': gasto,\n",
    "            'Balance': balance_actual + (ingreso - gasto)\n",
    "        }\n",
    "        \n",
    "        transacciones.append(transaccion)\n",
    "        balance_actual = balance_actual + (ingreso - gasto)\n",
    "        \n",
    "        # Mostrar el DataFrame actualizado\n",
    "        df = pd.DataFrame(transacciones)\n",
    "        print(\"\\nDataFrame actual:\")\n",
    "        print(df)\n",
    "        \n",
    "    elif agregar_otra.lower() == 'no':\n",
    "        print(\"Gracias por usar el programa.\")\n",
    "        break\n",
    "    else:\n",
    "        print(\"Opción no válida, intenta de nuevo.\")"
   ]
  },
  {
   "cell_type": "code",
   "execution_count": 5,
   "id": "02030f7f",
   "metadata": {},
   "outputs": [
    {
     "data": {
      "text/html": [
       "<div>\n",
       "<style scoped>\n",
       "    .dataframe tbody tr th:only-of-type {\n",
       "        vertical-align: middle;\n",
       "    }\n",
       "\n",
       "    .dataframe tbody tr th {\n",
       "        vertical-align: top;\n",
       "    }\n",
       "\n",
       "    .dataframe thead th {\n",
       "        text-align: right;\n",
       "    }\n",
       "</style>\n",
       "<table border=\"1\" class=\"dataframe\">\n",
       "  <thead>\n",
       "    <tr style=\"text-align: right;\">\n",
       "      <th></th>\n",
       "      <th>Ingreso</th>\n",
       "      <th>Gasto</th>\n",
       "      <th>Balance</th>\n",
       "    </tr>\n",
       "  </thead>\n",
       "  <tbody>\n",
       "    <tr>\n",
       "      <th>count</th>\n",
       "      <td>2.000000</td>\n",
       "      <td>2.000000</td>\n",
       "      <td>2.000000</td>\n",
       "    </tr>\n",
       "    <tr>\n",
       "      <th>mean</th>\n",
       "      <td>450.000000</td>\n",
       "      <td>50.000000</td>\n",
       "      <td>9850.000000</td>\n",
       "    </tr>\n",
       "    <tr>\n",
       "      <th>std</th>\n",
       "      <td>636.396103</td>\n",
       "      <td>70.710678</td>\n",
       "      <td>70.710678</td>\n",
       "    </tr>\n",
       "    <tr>\n",
       "      <th>min</th>\n",
       "      <td>0.000000</td>\n",
       "      <td>0.000000</td>\n",
       "      <td>9800.000000</td>\n",
       "    </tr>\n",
       "    <tr>\n",
       "      <th>25%</th>\n",
       "      <td>225.000000</td>\n",
       "      <td>25.000000</td>\n",
       "      <td>9825.000000</td>\n",
       "    </tr>\n",
       "    <tr>\n",
       "      <th>50%</th>\n",
       "      <td>450.000000</td>\n",
       "      <td>50.000000</td>\n",
       "      <td>9850.000000</td>\n",
       "    </tr>\n",
       "    <tr>\n",
       "      <th>75%</th>\n",
       "      <td>675.000000</td>\n",
       "      <td>75.000000</td>\n",
       "      <td>9875.000000</td>\n",
       "    </tr>\n",
       "    <tr>\n",
       "      <th>max</th>\n",
       "      <td>900.000000</td>\n",
       "      <td>100.000000</td>\n",
       "      <td>9900.000000</td>\n",
       "    </tr>\n",
       "  </tbody>\n",
       "</table>\n",
       "</div>"
      ],
      "text/plain": [
       "          Ingreso       Gasto      Balance\n",
       "count    2.000000    2.000000     2.000000\n",
       "mean   450.000000   50.000000  9850.000000\n",
       "std    636.396103   70.710678    70.710678\n",
       "min      0.000000    0.000000  9800.000000\n",
       "25%    225.000000   25.000000  9825.000000\n",
       "50%    450.000000   50.000000  9850.000000\n",
       "75%    675.000000   75.000000  9875.000000\n",
       "max    900.000000  100.000000  9900.000000"
      ]
     },
     "execution_count": 5,
     "metadata": {},
     "output_type": "execute_result"
    }
   ],
   "source": [
    "df.describe()"
   ]
  },
  {
   "cell_type": "code",
   "execution_count": 6,
   "id": "14a69d8f",
   "metadata": {},
   "outputs": [
    {
     "name": "stdout",
     "output_type": "stream",
     "text": [
      "El gasto mayor fue de 100.0\n"
     ]
    }
   ],
   "source": [
    "#identificar el gasto mayor de mi dataframe\n",
    "\n",
    "gasto_mayor = df['Gasto'].max()\n",
    "print(f'El gasto mayor fue de {gasto_mayor}')"
   ]
  }
 ],
 "metadata": {
  "kernelspec": {
   "display_name": "base",
   "language": "python",
   "name": "python3"
  },
  "language_info": {
   "codemirror_mode": {
    "name": "ipython",
    "version": 3
   },
   "file_extension": ".py",
   "mimetype": "text/x-python",
   "name": "python",
   "nbconvert_exporter": "python",
   "pygments_lexer": "ipython3",
   "version": "3.12.4"
  }
 },
 "nbformat": 4,
 "nbformat_minor": 5
}
