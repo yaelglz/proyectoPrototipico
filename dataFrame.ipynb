{
 "cells": [
  {
   "cell_type": "code",
   "execution_count": 1,
   "id": "a0388e4b",
   "metadata": {},
   "outputs": [],
   "source": [
    "import pandas as pd"
   ]
  },
  {
   "cell_type": "code",
   "execution_count": 5,
   "id": "initial_id",
   "metadata": {
    "ExecuteTime": {
     "end_time": "2024-10-09T01:12:42.971217Z",
     "start_time": "2024-10-09T01:12:13.184942Z"
    },
    "collapsed": true
   },
   "outputs": [
    {
     "name": "stdout",
     "output_type": "stream",
     "text": [
      "Tu balance inicial es de 1500.0\n"
     ]
    }
   ],
   "source": [
    "# Solicitar el balance inicial\n",
    "balance_actual = float(input(\"Introduce tu balance inicial: \"))  # Pedir el balance inicial\n",
    "transacciones = []\n",
    "print(f'Tu balance inicial es de {balance_actual}')\n"
   ]
  },
  {
   "cell_type": "code",
   "execution_count": 10,
   "id": "0b2bc570",
   "metadata": {},
   "outputs": [
    {
     "name": "stdout",
     "output_type": "stream",
     "text": [
      "Introduce los datos de la transacción inicial:\n"
     ]
    },
    {
     "name": "stdout",
     "output_type": "stream",
     "text": [
      "\n",
      "DataFrame actual:\n",
      "        Fecha Descripción Categoría  Ingreso  Gasto  Balance\n",
      "0  2024-10-05        Ropa     Gasto      0.0  250.0   1250.0\n",
      "1  2024-10-06        Ropa     Gasto      0.0  250.0   1000.0\n",
      "2  2024-10-06     Pasajes     Gasto      0.0  100.0    900.0\n",
      "3  2024-10-08    Internet     Gasto      0.0  600.0    300.0\n",
      "4  2024-10-08      Sueldo   Ingreso   6000.0    0.0   6300.0\n",
      "Gracias por usar el programa.\n"
     ]
    }
   ],
   "source": [
    "# Solicitar los datos de la transacción inicial\n",
    "print(\"Introduce los datos de la transacción inicial:\")\n",
    "categoria = input(\"Categoría (Ingreso/Gasto): \")\n",
    "descripcion = input(\"Descripción de la transacción: \")\n",
    "fecha = input(\"Fecha de la transacción (YYYY-MM-DD): \")\n",
    "\n",
    "if categoria.lower() == \"ingreso\":\n",
    "    ingreso = float(input(\"Cantidad del ingreso: \"))\n",
    "    gasto = 0\n",
    "elif categoria.lower() == \"gasto\":\n",
    "    ingreso = 0\n",
    "    gasto = float(input(\"Cantidad del gasto: \"))\n",
    "else:\n",
    "    print(\"Categoría no válida. El programa se cerrará.\")\n",
    "    exit()\n",
    "\n",
    "# Agregar la transacción inicial a la lista\n",
    "transaccion = {\n",
    "    'Fecha': fecha,\n",
    "    'Descripción': descripcion,\n",
    "    'Categoría': categoria.capitalize(),\n",
    "    'Ingreso': ingreso,\n",
    "    'Gasto': gasto,\n",
    "    'Balance': balance_actual + (ingreso - gasto)\n",
    "}\n",
    "\n",
    "transacciones.append(transaccion)\n",
    "balance_actual = balance_actual + (ingreso - gasto)\n",
    "\n",
    "# Mostrar el DataFrame con la transacción inicial\n",
    "df = pd.DataFrame(transacciones)\n",
    "print(\"\\nDataFrame actual:\")\n",
    "print(df)\n",
    "\n",
    "# Bucle para agregar más transacciones\n",
    "while True:\n",
    "    agregar_otra = input(\"\\n¿Deseas agregar otra transacción? (sí/no): \")\n",
    "    \n",
    "    if agregar_otra.lower() == 'si':\n",
    "        categoria = input(\"Categoría (Ingreso/Gasto): \")\n",
    "        descripcion = input(\"Descripción de la transacción: \")\n",
    "        fecha = input(\"Fecha de la transacción (YYYY-MM-DD): \")\n",
    "        \n",
    "        if categoria.lower() == \"ingreso\":\n",
    "            ingreso = float(input(\"Cantidad del ingreso: \"))\n",
    "            gasto = 0\n",
    "        elif categoria.lower() == \"gasto\":\n",
    "            ingreso = 0\n",
    "            gasto = float(input(\"Cantidad del gasto: \"))\n",
    "        else:\n",
    "            print(\"Categoría no válida. Intenta de nuevo.\")\n",
    "            continue\n",
    "\n",
    "        # Agregar la nueva transacción\n",
    "        transaccion = {\n",
    "            'Fecha': fecha,\n",
    "            'Descripción': descripcion,\n",
    "            'Categoría': categoria.capitalize(),\n",
    "            'Ingreso': ingreso,\n",
    "            'Gasto': gasto,\n",
    "            'Balance': balance_actual + ingreso - gasto\n",
    "        }\n",
    "        \n",
    "        transacciones.append(transaccion)\n",
    "        balance_actual += ingreso - gasto\n",
    "        \n",
    "        # Mostrar el DataFrame actualizado\n",
    "        df = pd.DataFrame(transacciones)\n",
    "        print(\"\\nDataFrame actual:\")\n",
    "        print(df)\n",
    "        \n",
    "    elif agregar_otra.lower() == 'no':\n",
    "        print(\"Gracias por usar el programa.\")\n",
    "        break\n",
    "    else:\n",
    "        print(\"Opción no válida, intenta de nuevo.\")"
   ]
  },
  {
   "cell_type": "code",
   "execution_count": 11,
   "id": "02030f7f",
   "metadata": {},
   "outputs": [
    {
     "data": {
      "text/html": [
       "<div>\n",
       "<style scoped>\n",
       "    .dataframe tbody tr th:only-of-type {\n",
       "        vertical-align: middle;\n",
       "    }\n",
       "\n",
       "    .dataframe tbody tr th {\n",
       "        vertical-align: top;\n",
       "    }\n",
       "\n",
       "    .dataframe thead th {\n",
       "        text-align: right;\n",
       "    }\n",
       "</style>\n",
       "<table border=\"1\" class=\"dataframe\">\n",
       "  <thead>\n",
       "    <tr style=\"text-align: right;\">\n",
       "      <th></th>\n",
       "      <th>Ingreso</th>\n",
       "      <th>Gasto</th>\n",
       "      <th>Balance</th>\n",
       "    </tr>\n",
       "  </thead>\n",
       "  <tbody>\n",
       "    <tr>\n",
       "      <th>count</th>\n",
       "      <td>5.000000</td>\n",
       "      <td>5.000000</td>\n",
       "      <td>5.000000</td>\n",
       "    </tr>\n",
       "    <tr>\n",
       "      <th>mean</th>\n",
       "      <td>1200.000000</td>\n",
       "      <td>240.000000</td>\n",
       "      <td>1950.000000</td>\n",
       "    </tr>\n",
       "    <tr>\n",
       "      <th>std</th>\n",
       "      <td>2683.281573</td>\n",
       "      <td>227.486263</td>\n",
       "      <td>2456.623699</td>\n",
       "    </tr>\n",
       "    <tr>\n",
       "      <th>min</th>\n",
       "      <td>0.000000</td>\n",
       "      <td>0.000000</td>\n",
       "      <td>300.000000</td>\n",
       "    </tr>\n",
       "    <tr>\n",
       "      <th>25%</th>\n",
       "      <td>0.000000</td>\n",
       "      <td>100.000000</td>\n",
       "      <td>900.000000</td>\n",
       "    </tr>\n",
       "    <tr>\n",
       "      <th>50%</th>\n",
       "      <td>0.000000</td>\n",
       "      <td>250.000000</td>\n",
       "      <td>1000.000000</td>\n",
       "    </tr>\n",
       "    <tr>\n",
       "      <th>75%</th>\n",
       "      <td>0.000000</td>\n",
       "      <td>250.000000</td>\n",
       "      <td>1250.000000</td>\n",
       "    </tr>\n",
       "    <tr>\n",
       "      <th>max</th>\n",
       "      <td>6000.000000</td>\n",
       "      <td>600.000000</td>\n",
       "      <td>6300.000000</td>\n",
       "    </tr>\n",
       "  </tbody>\n",
       "</table>\n",
       "</div>"
      ],
      "text/plain": [
       "           Ingreso       Gasto      Balance\n",
       "count     5.000000    5.000000     5.000000\n",
       "mean   1200.000000  240.000000  1950.000000\n",
       "std    2683.281573  227.486263  2456.623699\n",
       "min       0.000000    0.000000   300.000000\n",
       "25%       0.000000  100.000000   900.000000\n",
       "50%       0.000000  250.000000  1000.000000\n",
       "75%       0.000000  250.000000  1250.000000\n",
       "max    6000.000000  600.000000  6300.000000"
      ]
     },
     "execution_count": 11,
     "metadata": {},
     "output_type": "execute_result"
    }
   ],
   "source": [
    "df.describe()"
   ]
  }
 ],
 "metadata": {
  "kernelspec": {
   "display_name": "base",
   "language": "python",
   "name": "python3"
  },
  "language_info": {
   "codemirror_mode": {
    "name": "ipython",
    "version": 3
   },
   "file_extension": ".py",
   "mimetype": "text/x-python",
   "name": "python",
   "nbconvert_exporter": "python",
   "pygments_lexer": "ipython3",
   "version": "3.12.4"
  }
 },
 "nbformat": 4,
 "nbformat_minor": 5
}
